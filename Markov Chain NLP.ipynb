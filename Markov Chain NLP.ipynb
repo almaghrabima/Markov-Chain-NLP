{
 "cells": [
  {
   "cell_type": "markdown",
   "id": "f3830321",
   "metadata": {},
   "source": [
    "# Sherlock Holmes Adventure Generation"
   ]
  },
  {
   "cell_type": "code",
   "execution_count": 2,
   "id": "353fbf7e",
   "metadata": {},
   "outputs": [],
   "source": [
    "import numpy as np\n",
    "import pandas as pd\n",
    "import os\n",
    "import re\n",
    "import string\n",
    "from nltk.tokenize import word_tokenize\n",
    "from nltk.corpus import stopwords\n",
    "import random"
   ]
  },
  {
   "cell_type": "markdown",
   "id": "0059ee08",
   "metadata": {},
   "source": [
    "## Reading every Sherlock Holmes adventure!"
   ]
  },
  {
   "cell_type": "code",
   "execution_count": 3,
   "id": "d2f5613f",
   "metadata": {},
   "outputs": [
    {
     "name": "stdout",
     "output_type": "stream",
     "text": [
      "number of lines =  215021\n"
     ]
    }
   ],
   "source": [
    "story_path = \"/Users/almag/Documents/AI/sherlock/sherlock/\"\n",
    "\n",
    "def read_all_stories(story_path):\n",
    "    txt = []\n",
    "    for _, _, files in os.walk(story_path):\n",
    "        for file in files:\n",
    "            with open(story_path + file) as f:\n",
    "                for line in f:\n",
    "                    line = line.strip()\n",
    "                    if line=='----------': break\n",
    "                    if line!='':txt.append(line)\n",
    "    return txt\n",
    "        \n",
    "stories = read_all_stories(story_path)\n",
    "print(\"number of lines = \", len(stories))\n"
   ]
  },
  {
   "cell_type": "markdown",
   "id": "49b3713a",
   "metadata": {},
   "source": [
    "## Cleaning the text"
   ]
  },
  {
   "cell_type": "code",
   "execution_count": 4,
   "id": "a3b4c975",
   "metadata": {},
   "outputs": [
    {
     "name": "stdout",
     "output_type": "stream",
     "text": [
      "number of words =  2332110\n"
     ]
    }
   ],
   "source": [
    "def clean_txt(txt):\n",
    "    cleaned_txt = []\n",
    "    for line in txt:\n",
    "        line = line.lower()\n",
    "        line = re.sub(r\"[,.\\\"\\'!@#$%^&*(){}?/;`~:<>+=-\\\\]\", \"\", line)\n",
    "        tokens = word_tokenize(line)\n",
    "        words = [word for word in tokens if word.isalpha()]\n",
    "        cleaned_txt+=words\n",
    "    return cleaned_txt\n",
    "\n",
    "cleaned_stories = clean_txt(stories)\n",
    "print(\"number of words = \", len(cleaned_stories))"
   ]
  },
  {
   "cell_type": "markdown",
   "id": "ffb9c960",
   "metadata": {},
   "source": [
    "## Creating Markov Model\n"
   ]
  },
  {
   "cell_type": "code",
   "execution_count": 5,
   "id": "8b124917",
   "metadata": {},
   "outputs": [],
   "source": [
    "def make_markov_model(cleaned_stories, n_gram=2):\n",
    "    markov_model = {}\n",
    "    for i in range(len(cleaned_stories)-n_gram-1):\n",
    "        curr_state, next_state = \"\", \"\"\n",
    "        for j in range(n_gram):\n",
    "            curr_state += cleaned_stories[i+j] + \" \"\n",
    "            next_state += cleaned_stories[i+j+n_gram] + \" \"\n",
    "        curr_state = curr_state[:-1]\n",
    "        next_state = next_state[:-1]\n",
    "        if curr_state not in markov_model:\n",
    "            markov_model[curr_state] = {}\n",
    "            markov_model[curr_state][next_state] = 1\n",
    "        else:\n",
    "            if next_state in markov_model[curr_state]:\n",
    "                markov_model[curr_state][next_state] += 1\n",
    "            else:\n",
    "                markov_model[curr_state][next_state] = 1\n",
    "    \n",
    "    # calculating transition probabilities\n",
    "    for curr_state, transition in markov_model.items():\n",
    "        total = sum(transition.values())\n",
    "        for state, count in transition.items():\n",
    "            markov_model[curr_state][state] = count/total\n",
    "        \n",
    "    return markov_model"
   ]
  },
  {
   "cell_type": "code",
   "execution_count": 6,
   "id": "235e836b",
   "metadata": {},
   "outputs": [],
   "source": [
    "markov_model = make_markov_model(cleaned_stories)"
   ]
  },
  {
   "cell_type": "code",
   "execution_count": 7,
   "id": "49328fda",
   "metadata": {},
   "outputs": [
    {
     "name": "stdout",
     "output_type": "stream",
     "text": [
      "number of states =  208670\n"
     ]
    }
   ],
   "source": [
    "print(\"number of states = \", len(markov_model.keys()))"
   ]
  },
  {
   "cell_type": "code",
   "execution_count": 8,
   "id": "42703ea1",
   "metadata": {},
   "outputs": [
    {
     "name": "stdout",
     "output_type": "stream",
     "text": [
      "All possible transitions from 'the game' state: \n",
      "\n",
      "{'your letter': 0.02702702702702703, 'was up': 0.09009009009009009, 'is afoot': 0.036036036036036036, 'for the': 0.036036036036036036, 'was in': 0.02702702702702703, 'is hardly': 0.02702702702702703, 'would have': 0.036036036036036036, 'is up': 0.06306306306306306, 'is and': 0.036036036036036036, 'in their': 0.036036036036036036, 'was whist': 0.036036036036036036, 'in that': 0.036036036036036036, 'the lack': 0.036036036036036036, 'for all': 0.06306306306306306, 'may wander': 0.02702702702702703, 'now a': 0.02702702702702703, 'my own': 0.02702702702702703, 'at any': 0.02702702702702703, 'mr holmes': 0.02702702702702703, 'ay whats': 0.02702702702702703, 'my friend': 0.02702702702702703, 'fairly by': 0.02702702702702703, 'is not': 0.02702702702702703, 'was not': 0.02702702702702703, 'was afoot': 0.036036036036036036, 'worth it': 0.02702702702702703, 'you are': 0.02702702702702703, 'i am': 0.02702702702702703, 'now count': 0.02702702702702703}\n"
     ]
    }
   ],
   "source": [
    "print(\"All possible transitions from 'the game' state: \\n\")\n",
    "print(markov_model['the game'])"
   ]
  },
  {
   "cell_type": "code",
   "execution_count": 9,
   "id": "94fbbac8",
   "metadata": {},
   "outputs": [],
   "source": [
    "def generate_story(markov_model, limit=100, start='my god'):\n",
    "    n = 0\n",
    "    curr_state = start\n",
    "    next_state = None\n",
    "    story = \"\"\n",
    "    story+=curr_state+\" \"\n",
    "    while n<limit:\n",
    "        next_state = random.choices(list(markov_model[curr_state].keys()),\n",
    "                                    list(markov_model[curr_state].values()))\n",
    "        \n",
    "        curr_state = next_state[0]\n",
    "        story+=curr_state+\" \"\n",
    "        n+=1\n",
    "    return story"
   ]
  },
  {
   "cell_type": "code",
   "execution_count": 10,
   "id": "2c18e911",
   "metadata": {},
   "outputs": [
    {
     "name": "stdout",
     "output_type": "stream",
     "text": [
      "0.  dear holmes that i do not know that you felt we then ascended to the room their first \n",
      "1.  dear holmes he has had no friends who would call me a check for every hour may be \n",
      "2.  dear holmes i fear that it was indeed a weird figure as swift and active as a squirrel \n",
      "3.  dear holmes am i then you can be no doubt but still glared at the glittering handcuffs which \n",
      "4.  dear holmes you are a friend for whom we must have one more specimen of the corridor and \n",
      "5.  dear holmes said i as i have this money or valuables in the room after eleven oclock i \n",
      "6.  dear holmes i have never seen a man with a at the door and the spokesman of the \n",
      "7.  dear holmes oh yes here you are mrs oakshott brixton road read holmes quite simple my dear watson \n",
      "8.  dear holmes if i thought you londoners were never at fault you dont seem to give you any \n",
      "9.  dear holmes what do you think then sir that i had his answer hilton cubitt sent me the \n",
      "10.  dear holmes he has a grudge against me id be glad to enjoy the amenities of this charming \n",
      "11.  dear holmes i fear i can read the note aloud it ran please please as you will find \n",
      "12.  dear holmes i have always done you an interview with him either as a felon with other convicts \n",
      "13.  dear holmes i ejaculated surely said i the servants but only succeeded in eliciting the facts i answered \n",
      "14.  dear holmes i fear it is that you make your own cigarettes have no doubt that his wedding \n",
      "15.  dear holmes i thought that i asks why says he and he went off together last night does \n",
      "16.  dear holmes am i a stranger errand than you and i say east said my patient i am \n",
      "17.  dear holmes and tell her our scent runs cold here and there are no signs here said he \n",
      "18.  dear holmes you are coming along the passage he found that the time has not yet returned she \n",
      "19.  dear holmes i ejaculated my dear fellow that trick of stepping in for a sharp frost had set \n"
     ]
    }
   ],
   "source": [
    "for i in range(20):\n",
    "    print(str(i)+\". \", generate_story(markov_model, start=\"dear holmes\", limit=8))\n",
    "    "
   ]
  },
  {
   "cell_type": "code",
   "execution_count": 11,
   "id": "ed2e1cf1",
   "metadata": {},
   "outputs": [
    {
     "name": "stdout",
     "output_type": "stream",
     "text": [
      "0.  my dear watson said holmes with a yawn what happened i would lay a whip across your shoulders \n",
      "1.  my dear watson there are no lengths to which this document disappeared that can befall a woman we \n",
      "2.  my dear mycroft the chain is almost complete you have not you but if we can not let \n",
      "3.  my dear watson theres genius in that for years i have had one or two which i was \n",
      "4.  my dear watson that something happened a week when i glanced out of my limbs as a relic \n",
      "5.  my dear fellow for heavens sake mr holmes said he that circle is drawn at a glance what \n",
      "6.  my dear sir dont look so impatient for i assure you no more to be done but there \n",
      "7.  my dear fellow there is no easy matter to know it was like a great metallic heart her \n",
      "8.  my dear doctor this is a further point however which i merely called to say that my practice \n",
      "9.  my dear watson the man himself at his watch i expect developments watson when you know because there \n",
      "10.  my dear holmes i cried this is impossible before i leave him however he gently turned it towards \n",
      "11.  my dear watson and i must go back to briarbrae answered holmes shrugging his shoulders you cant help \n",
      "12.  my dear young lady who is a foreigner and he said it before but why should i go \n",
      "13.  my dear lady you say that it is much used now especially for the third on the right \n",
      "14.  my dear colonel that you must at once took the more chivalrous view however and preserved the same \n",
      "15.  my dear colonel that you must stay or you lose your billet and the two willabys were men \n",
      "16.  my dear watson the curtain rings up for a minute or two very instructive in all this it \n",
      "17.  my dear watson i simply cant leave that paper with a request that he is doing his own \n",
      "18.  my dear sir please do what i should like your advice and go at once to see if \n",
      "19.  my dear watson that you were playing any game on us it was nearly six oclock that i \n"
     ]
    }
   ],
   "source": [
    "for i in range(20):\n",
    "    print(str(i)+\". \", generate_story(markov_model, start=\"my dear\", limit=8))"
   ]
  },
  {
   "cell_type": "code",
   "execution_count": 12,
   "id": "7df43d70",
   "metadata": {},
   "outputs": [
    {
     "name": "stdout",
     "output_type": "stream",
     "text": [
      "0.  i would have it too in short watson it is k k k said i he thought for \n",
      "1.  i would go i am the pupil and you are in your own mind a dying and delirious \n",
      "2.  i would call your attention very particularly to two points which worried young edmunds of the pair the \n",
      "3.  i would rather die under my roof and it is not for me to be something important which \n",
      "4.  i would risk a little sporting flutter that you dont do much soldiering however i had done and \n",
      "5.  i would not have his cursed face thats my price im with you or im mistaken leave it \n",
      "6.  i would not have telegraphed to the london press has not had a peaceful hour since whoever took \n",
      "7.  i would bring him the papers presuming that it is settled then the longer i stay here alone \n",
      "8.  i would say nothing of the second stain the adventure of charles the first to spring to his \n",
      "9.  i would do nothing with him on eclipses how the matter stands i realize that your refusal is \n",
      "10.  i would take this photograph of a woman beware beware hows that then i recalled to mind that \n",
      "11.  i would really rather not well i am sorry if i have had that very day the papers \n",
      "12.  i would suggest that we put something over four yards there was the problem which awaited us in \n",
      "13.  i would there was a warm humanity in his eyes shone and his cheek was flushed with anger \n",
      "14.  i would there was no such holy terror come to any one who wishes to hurry my work \n",
      "15.  i would never have cause to effect which miss dunbar disclaims all knowledge of the mountains to the \n",
      "16.  i would send you one of my baker street rooms although i continually visited him and he has \n",
      "17.  i would be in the best take your advice in difficult cases but now he was a high \n",
      "18.  i would have allowed his guilty conscience knowing himself to a cup of tea which was instantly opened \n",
      "19.  i would not have detained him all the same when the drinks which followed his interview with a \n"
     ]
    }
   ],
   "source": [
    "for i in range(20):\n",
    "    print(str(i)+\". \", generate_story(markov_model, start=\"i would\", limit=8))"
   ]
  },
  {
   "cell_type": "code",
   "execution_count": 13,
   "id": "848c0dd1",
   "metadata": {},
   "outputs": [
    {
     "name": "stdout",
     "output_type": "stream",
     "text": [
      "the case to this trip watson by no means advance but three or four days you have urgent demands what would you have the plans themselves back in baker street a complete specimen of an absolutely blank mind which is it i cried rubbing my hands before his impending wedding to miss cushing of cross street where miss cushing resided it was all up the boxer not a livin soul sir nor was it well it might be some reason the treaty had reached a shrubbery which lies at the band of white shells were strung round the curve of the upper floor of the house agents you know and they said that mr douglas had only his duty towards intrusive strangers who are you though you remember hilton cubitt please continue your most interesting narrative just a little lower down was a long dismal walk the yew alley though not marked under that roof is under my ulster after all i wanted i slowed down his then yes it is all that is right now now read it to the post nor will they to the best it was the sheet upon which they are really good specimens great heavens is \n"
     ]
    }
   ],
   "source": [
    "print(generate_story(markov_model, start=\"the case\", limit=100))"
   ]
  },
  {
   "cell_type": "code",
   "execution_count": null,
   "id": "d1646a0a",
   "metadata": {},
   "outputs": [],
   "source": []
  }
 ],
 "metadata": {
  "kernelspec": {
   "display_name": "Python 3",
   "language": "python",
   "name": "python3"
  },
  "language_info": {
   "codemirror_mode": {
    "name": "ipython",
    "version": 3
   },
   "file_extension": ".py",
   "mimetype": "text/x-python",
   "name": "python",
   "nbconvert_exporter": "python",
   "pygments_lexer": "ipython3",
   "version": "3.8.8"
  }
 },
 "nbformat": 4,
 "nbformat_minor": 5
}
